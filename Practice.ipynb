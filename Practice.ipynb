{
 "cells": [
  {
   "cell_type": "raw",
   "id": "a33e7f8c-39ea-4f12-b495-ffabfb1eb0ce",
   "metadata": {},
   "source": [
    "QUES: \n",
    "ANS: Asets \n",
    "QUES: \n",
    "ANS: Special keywords/symbols that are used ro perform operation on variable or values.\n"
   ]
  }
 ],
 "metadata": {
  "kernelspec": {
   "display_name": "Python 3 (ipykernel)",
   "language": "python",
   "name": "python3"
  },
  "language_info": {
   "codemirror_mode": {
    "name": "ipython",
    "version": 3
   },
   "file_extension": ".py",
   "mimetype": "text/x-python",
   "name": "python",
   "nbconvert_exporter": "python",
   "pygments_lexer": "ipython3",
   "version": "3.12.4"
  }
 },
 "nbformat": 4,
 "nbformat_minor": 5
}
